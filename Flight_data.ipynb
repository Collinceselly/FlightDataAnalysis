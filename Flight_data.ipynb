{
 "cells": [
  {
   "cell_type": "code",
   "execution_count": null,
   "id": "11e4ad92",
   "metadata": {},
   "outputs": [],
   "source": [
    "import pandas as pd\n",
    "import numpy as np\n",
    "import os\n",
    "from glob import glob\n",
    "import matplotlib.pyplot as plt"
   ]
  },
  {
   "cell_type": "markdown",
   "id": "656ff489",
   "metadata": {},
   "source": [
    "READING ALL FILES IN THE FOLDER"
   ]
  },
  {
   "cell_type": "code",
   "execution_count": null,
   "id": "2d9c8b2c",
   "metadata": {},
   "outputs": [],
   "source": [
    "files = [file for file in os.listdir('datasets/Flight')]\n",
    "for file in files:\n",
    "    print(file)"
   ]
  },
  {
   "cell_type": "code",
   "execution_count": null,
   "id": "2c42bb07",
   "metadata": {},
   "outputs": [],
   "source": [
    "import os\n",
    "os.listdir(os.getcwd()+'\\\\datasets/Flight')"
   ]
  },
  {
   "cell_type": "code",
   "execution_count": null,
   "id": "5c50ca58",
   "metadata": {},
   "outputs": [],
   "source": [
    "files = [file for file in os.listdir('datasets/Flight/parquet_files')]\n",
    "for file in files:\n",
    "    print(file)"
   ]
  },
  {
   "cell_type": "markdown",
   "id": "49c5d289",
   "metadata": {},
   "source": [
    "MERGING ALL DATAFRAMES INTO A SINGLE FILE"
   ]
  },
  {
   "cell_type": "code",
   "execution_count": null,
   "id": "e25180e4",
   "metadata": {},
   "outputs": [],
   "source": [
    "# files = [file for file in os.listdir('datasets/Flight/parquet_files')]\n",
    "# excel_list = []\n",
    "# for file in files:\n",
    "#     excel_list.append(pd.read_parquet(file))\n",
    "#     excel_marged = pd.concat(excel_list, ignore_index = True)\n",
    "# excel_merged.to_parquet('datasets/FlightData/combined_data.parquet', index = False)"
   ]
  },
  {
   "cell_type": "code",
   "execution_count": null,
   "id": "d6cab592",
   "metadata": {},
   "outputs": [],
   "source": [
    "# files = [file for file in os.listdir('datasets/Flight/parquet_files')]\n",
    "\n",
    "# all_data = pd.DataFrame()\n",
    "\n",
    "# for file in files:\n",
    "#     df = pd.read_parquet('datasets/Flight/parquet_files' + file)\n",
    "#     all_data = pd.concat([all_data, df])\n",
    "\n",
    "# all_data.to_parquet('datasets/FlightData/combined_data.parquet', index = False)"
   ]
  },
  {
   "cell_type": "code",
   "execution_count": null,
   "id": "7acae37a",
   "metadata": {},
   "outputs": [],
   "source": []
  },
  {
   "cell_type": "code",
   "execution_count": null,
   "id": "b4b13cda",
   "metadata": {},
   "outputs": [],
   "source": [
    "flight_data_2018 = pd.read_parquet('datasets/Flight/Combined_Flights_2018.parquet')\n",
    "flight_data_2018.head()"
   ]
  },
  {
   "cell_type": "code",
   "execution_count": null,
   "id": "bf0af222",
   "metadata": {},
   "outputs": [],
   "source": [
    "flight_data_2018.shape"
   ]
  },
  {
   "cell_type": "code",
   "execution_count": null,
   "id": "6795fd94",
   "metadata": {},
   "outputs": [],
   "source": [
    "flight_data_2018.size"
   ]
  },
  {
   "cell_type": "code",
   "execution_count": null,
   "id": "0c1932fe",
   "metadata": {},
   "outputs": [],
   "source": [
    "flight_data_2018.info()"
   ]
  },
  {
   "cell_type": "code",
   "execution_count": null,
   "id": "ffdae7f0",
   "metadata": {},
   "outputs": [],
   "source": [
    "column_subset = [\n",
    "    'FlightDate',\n",
    "    'Airline',\n",
    "    'Origin',\n",
    "    'Cancelled',\n",
    "    'Diverted',\n",
    "    'CRSDepTime',\n",
    "    'DepTime',\n",
    "    'DepDelayMinutes',\n",
    "    'OriginCityName',\n",
    "    'OriginAirportID',\n",
    "    'OriginStateName',\n",
    "    'DestAirportID',\n",
    "    'DestCityName',\n",
    "    'DestStateName',\n",
    "    \n",
    "]"
   ]
  },
  {
   "cell_type": "code",
   "execution_count": null,
   "id": "639b9234",
   "metadata": {},
   "outputs": [],
   "source": [
    "flight_data_2018_filtered = pd.read_parquet('datasets/Flight/Combined_Flights_2018.parquet', columns = column_subset)\n",
    "flight_data_2018_filtered.head(20)"
   ]
  },
  {
   "cell_type": "code",
   "execution_count": null,
   "id": "c6df3299",
   "metadata": {},
   "outputs": [],
   "source": [
    "# df = pd.read_parquet(files[0], columns = column_subset)"
   ]
  },
  {
   "cell_type": "code",
   "execution_count": null,
   "id": "3f5b6e72",
   "metadata": {},
   "outputs": [],
   "source": [
    "# import pyarrow.parquet as pq\n",
    "\n",
    "# files = [file for file in os.listdir('datasets/Flight/parquet_files')]\n",
    "\n",
    "\n",
    "# with pq.ParquetWriter(\"output.parquet\", schema=pq.ParquetFile(files[0]).schema_arrow) as writer:\n",
    "#     for file in files:\n",
    "#         writer.write_table(pq.read_table(file))"
   ]
  },
  {
   "cell_type": "code",
   "execution_count": null,
   "id": "075d8c88",
   "metadata": {},
   "outputs": [],
   "source": [
    "parquet_files = glob('datasets/Flight/parquet_files/*.parquet')"
   ]
  },
  {
   "cell_type": "code",
   "execution_count": null,
   "id": "ef7ca902",
   "metadata": {},
   "outputs": [],
   "source": [
    "parquet_files"
   ]
  },
  {
   "cell_type": "code",
   "execution_count": null,
   "id": "f6a467f5",
   "metadata": {},
   "outputs": [],
   "source": [
    "df = pd.read_parquet(parquet_files, columns = column_subset)"
   ]
  },
  {
   "cell_type": "code",
   "execution_count": null,
   "id": "5e97850c",
   "metadata": {},
   "outputs": [],
   "source": [
    "df.size"
   ]
  },
  {
   "cell_type": "code",
   "execution_count": null,
   "id": "8df5b332",
   "metadata": {},
   "outputs": [],
   "source": [
    "df.to_parquet('datasets/FlightData/combined_data.parquet', index = False)"
   ]
  },
  {
   "cell_type": "code",
   "execution_count": null,
   "id": "d113dec2",
   "metadata": {},
   "outputs": [],
   "source": [
    "combined_records = pd.read_parquet('datasets/FlightData/combined_data.parquet')\n",
    "combined_records.head()"
   ]
  },
  {
   "cell_type": "markdown",
   "id": "ef19758a",
   "metadata": {},
   "source": [
    "TASK1: WHAT IS THE LONGEST DELAY TIME OF ALL THE YEARS?"
   ]
  },
  {
   "cell_type": "code",
   "execution_count": null,
   "id": "0eb08a6b",
   "metadata": {},
   "outputs": [],
   "source": [
    "combined_records['DepDelayMinutes'].dtype"
   ]
  },
  {
   "cell_type": "code",
   "execution_count": null,
   "id": "c6ba3c05",
   "metadata": {},
   "outputs": [],
   "source": [
    "delay_period = combined_records[['FlightDate','Airline','DepDelayMinutes', 'OriginCityName', 'DestCityName']]"
   ]
  },
  {
   "cell_type": "code",
   "execution_count": null,
   "id": "9dc87d1e",
   "metadata": {},
   "outputs": [],
   "source": [
    "delay_period"
   ]
  },
  {
   "cell_type": "code",
   "execution_count": null,
   "id": "a2ec90b5",
   "metadata": {},
   "outputs": [],
   "source": [
    "sorted_delay_time = delay_period.sort_values('DepDelayMinutes', ascending = False)"
   ]
  },
  {
   "cell_type": "code",
   "execution_count": null,
   "id": "ab719d5c",
   "metadata": {},
   "outputs": [],
   "source": [
    "sorted_delay_time"
   ]
  },
  {
   "cell_type": "markdown",
   "id": "4c11944f",
   "metadata": {},
   "source": [
    "TASK2: WHICH MONTH HAD THE LONGEST/SHORTEST COMMULATIVE DELAY FOR ALL THE YEARS?"
   ]
  },
  {
   "cell_type": "code",
   "execution_count": null,
   "id": "2febd6ad",
   "metadata": {},
   "outputs": [],
   "source": [
    "combined_records.head()"
   ]
  },
  {
   "cell_type": "code",
   "execution_count": null,
   "id": "c3e915b3",
   "metadata": {},
   "outputs": [],
   "source": [
    "combined_records['FlightDate'].dtype"
   ]
  },
  {
   "cell_type": "code",
   "execution_count": null,
   "id": "91eb8ccf",
   "metadata": {},
   "outputs": [],
   "source": [
    "combined_records['FlightDate'].unique()"
   ]
  },
  {
   "cell_type": "code",
   "execution_count": null,
   "id": "7e0f6c05",
   "metadata": {},
   "outputs": [],
   "source": [
    "np.dtype('datetime64[ns]') == np.dtype('<M8[ns]')"
   ]
  },
  {
   "cell_type": "code",
   "execution_count": null,
   "id": "5af9bb3c",
   "metadata": {},
   "outputs": [],
   "source": [
    "combined_records['FlightMonth'] = combined_records['FlightDate'].dt.month"
   ]
  },
  {
   "cell_type": "code",
   "execution_count": null,
   "id": "3b72c4b6",
   "metadata": {},
   "outputs": [],
   "source": [
    "combined_records.head()"
   ]
  },
  {
   "cell_type": "code",
   "execution_count": null,
   "id": "8585d30e",
   "metadata": {},
   "outputs": [],
   "source": [
    "filtered_columns = combined_records[['DepDelayMinutes', 'FlightMonth']]\n",
    "filtered_columns.head()"
   ]
  },
  {
   "cell_type": "code",
   "execution_count": null,
   "id": "2afeb8f8",
   "metadata": {},
   "outputs": [],
   "source": [
    "cum_delay_of_months = filtered_columns.groupby('FlightMonth').sum().reset_index()"
   ]
  },
  {
   "cell_type": "code",
   "execution_count": null,
   "id": "23cbfa24",
   "metadata": {},
   "outputs": [],
   "source": [
    "cum_delay_of_months"
   ]
  },
  {
   "cell_type": "code",
   "execution_count": null,
   "id": "f614f61f",
   "metadata": {},
   "outputs": [],
   "source": [
    "sorted_delay_month = cum_delay_of_months.sort_values('DepDelayMinutes', ascending = False)"
   ]
  },
  {
   "cell_type": "code",
   "execution_count": null,
   "id": "7b74a6e5",
   "metadata": {},
   "outputs": [],
   "source": [
    "sorted_delay_month"
   ]
  },
  {
   "cell_type": "code",
   "execution_count": null,
   "id": "6ac95d9d",
   "metadata": {},
   "outputs": [],
   "source": [
    "cum_delay_of_months.plot(x = 'FlightMonth', y = 'DepDelayMinutes', kind = 'bar', ylabel = 'cummulative delay time',\n",
    "                        xlabel = 'Month')"
   ]
  },
  {
   "cell_type": "markdown",
   "id": "8bb89b51",
   "metadata": {},
   "source": [
    "TASK3: WHICH YEAR HAD THE LONGEST/SHORTEST COMMULATIVE DELAY?"
   ]
  },
  {
   "cell_type": "code",
   "execution_count": null,
   "id": "01e55a72",
   "metadata": {},
   "outputs": [],
   "source": [
    "combined_records.head()"
   ]
  },
  {
   "cell_type": "code",
   "execution_count": null,
   "id": "f1837d6b",
   "metadata": {},
   "outputs": [],
   "source": [
    "combined_records['FlightYear'] = combined_records['FlightDate'].dt.year"
   ]
  },
  {
   "cell_type": "code",
   "execution_count": null,
   "id": "1fdaa5aa",
   "metadata": {},
   "outputs": [],
   "source": [
    "combined_records.head()"
   ]
  },
  {
   "cell_type": "code",
   "execution_count": null,
   "id": "c1b1fc58",
   "metadata": {},
   "outputs": [],
   "source": [
    "filtered_columns = combined_records[['DepDelayMinutes', 'FlightYear']]\n",
    "filtered_columns.head()"
   ]
  },
  {
   "cell_type": "code",
   "execution_count": null,
   "id": "1e2695c2",
   "metadata": {},
   "outputs": [],
   "source": [
    "combined_year = filtered_columns.groupby('FlightYear').sum().reset_index()\n",
    "combined_year"
   ]
  },
  {
   "cell_type": "code",
   "execution_count": null,
   "id": "d3528c11",
   "metadata": {},
   "outputs": [],
   "source": [
    "sorted_combined_year = combined_year.sort_values('DepDelayMinutes', ascending = False)\n",
    "sorted_combined_year"
   ]
  },
  {
   "cell_type": "code",
   "execution_count": null,
   "id": "9c2c2934",
   "metadata": {},
   "outputs": [],
   "source": [
    "combined_year.plot(x = 'FlightYear', y = 'DepDelayMinutes', kind = 'bar', xlabel = 'Year',\n",
    "                  ylabel = 'Total Delay in Minutes')"
   ]
  },
  {
   "cell_type": "markdown",
   "id": "319721ee",
   "metadata": {},
   "source": [
    "TASK 4: WHICH AIRPORTS/AIRLINES ARE MOST PRONE TO DELAYS?"
   ]
  },
  {
   "cell_type": "code",
   "execution_count": null,
   "id": "b03582bb",
   "metadata": {},
   "outputs": [],
   "source": [
    "combined_records.head()"
   ]
  },
  {
   "cell_type": "code",
   "execution_count": null,
   "id": "52b67d27",
   "metadata": {},
   "outputs": [],
   "source": [
    "airline_record = combined_records[['Airline', 'Origin', 'DepDelayMinutes']]\n",
    "airline_record.head()"
   ]
  },
  {
   "cell_type": "code",
   "execution_count": null,
   "id": "e7538d9e",
   "metadata": {},
   "outputs": [],
   "source": [
    "airline_delay_sum = airline_record.groupby('Airline').sum().reset_index()\n",
    "airline_delay_sum"
   ]
  },
  {
   "cell_type": "code",
   "execution_count": null,
   "id": "5268afba",
   "metadata": {},
   "outputs": [],
   "source": [
    "airline_delay_sum_sorted = airline_delay_sum.sort_values('DepDelayMinutes', ascending = False)\n",
    "airline_delay_sum_sorted"
   ]
  },
  {
   "cell_type": "code",
   "execution_count": null,
   "id": "28e8a404",
   "metadata": {},
   "outputs": [],
   "source": [
    "airport_delay_sum = airline_record.groupby('Origin').sum().reset_index()\n",
    "airport_delay_sum"
   ]
  },
  {
   "cell_type": "code",
   "execution_count": null,
   "id": "810d1e8f",
   "metadata": {},
   "outputs": [],
   "source": [
    "airport_delay_sum_sorted = airport_delay_sum.sort_values('DepDelayMinutes', ascending = False)\n",
    "airport_delay_sum_sorted"
   ]
  },
  {
   "cell_type": "code",
   "execution_count": null,
   "id": "83cecc88",
   "metadata": {},
   "outputs": [],
   "source": [
    "airport_delay_sum_sorted = airport_delay_sum.sort_values('DepDelayMinutes', ascending = True)\n",
    "airport_delay_sum_sorted"
   ]
  },
  {
   "cell_type": "code",
   "execution_count": null,
   "id": "aadfafde",
   "metadata": {},
   "outputs": [],
   "source": [
    "combined_records.head()"
   ]
  },
  {
   "cell_type": "code",
   "execution_count": null,
   "id": "9f19fe13",
   "metadata": {},
   "outputs": [],
   "source": [
    "combined_records['Diverted'].unique()"
   ]
  },
  {
   "cell_type": "markdown",
   "id": "fa33777d",
   "metadata": {},
   "source": [
    "TASK 5: Which airline/month/year/airline had the most/fewest diverted flights?"
   ]
  },
  {
   "cell_type": "code",
   "execution_count": null,
   "id": "e6462e10",
   "metadata": {},
   "outputs": [],
   "source": [
    "combined_records.head()"
   ]
  },
  {
   "cell_type": "code",
   "execution_count": null,
   "id": "8789f7c4",
   "metadata": {},
   "outputs": [],
   "source": [
    "diverted_flights = combined_records[combined_records['Diverted'] == True]"
   ]
  },
  {
   "cell_type": "code",
   "execution_count": null,
   "id": "68fc6e92",
   "metadata": {},
   "outputs": [],
   "source": [
    "diverted_flights.head()"
   ]
  },
  {
   "cell_type": "markdown",
   "id": "282c3aa9",
   "metadata": {},
   "source": [
    "AIRLINE"
   ]
  },
  {
   "cell_type": "code",
   "execution_count": null,
   "id": "30f286b5",
   "metadata": {},
   "outputs": [],
   "source": [
    "diverted_airline_filtered = diverted_flights[['Airline', 'Diverted']]\n",
    "diverted_airline_filtered\n"
   ]
  },
  {
   "cell_type": "code",
   "execution_count": null,
   "id": "9be27cfc",
   "metadata": {},
   "outputs": [],
   "source": [
    "diverted_airline_filtered['count'] = 1\n",
    "\n",
    "most_diverted_airline = diverted_airline_filtered.groupby('Airline').count().reset_index()[['Airline', 'count']]\n",
    "most_diverted_airline"
   ]
  },
  {
   "cell_type": "code",
   "execution_count": null,
   "id": "a30485c3",
   "metadata": {},
   "outputs": [],
   "source": [
    "most_diverted_airline_sorted = most_diverted_airline.sort_values('count', ascending = False)\n",
    "most_diverted_airline_sorted"
   ]
  },
  {
   "cell_type": "code",
   "execution_count": null,
   "id": "f72efec1",
   "metadata": {},
   "outputs": [],
   "source": [
    "most_diverted_airline.plot(x = 'Airline', y = 'count', kind = 'bar', xlabel = 'Airline',\n",
    "                  ylabel = 'Total number of diversions')"
   ]
  },
  {
   "cell_type": "markdown",
   "id": "af3502b0",
   "metadata": {},
   "source": [
    "MONTH"
   ]
  },
  {
   "cell_type": "code",
   "execution_count": null,
   "id": "f59b3e42",
   "metadata": {},
   "outputs": [],
   "source": [
    "month_diversion = diverted_flights[['Diverted', 'FlightMonth']]\n",
    "month_diversion"
   ]
  },
  {
   "cell_type": "code",
   "execution_count": null,
   "id": "ef2f47fa",
   "metadata": {},
   "outputs": [],
   "source": [
    "month_diversion['count'] = 1\n",
    "\n",
    "most_divesrion_month = month_diversion.groupby('FlightMonth').count().reset_index()[['FlightMonth', 'count']]\n",
    "most_divesrion_month"
   ]
  },
  {
   "cell_type": "code",
   "execution_count": null,
   "id": "77cdd4ab",
   "metadata": {},
   "outputs": [],
   "source": [
    "sorted_most_divesrion_month = most_divesrion_month.sort_values('count', ascending = False)\n",
    "sorted_most_divesrion_month"
   ]
  },
  {
   "cell_type": "code",
   "execution_count": null,
   "id": "ca1d386f",
   "metadata": {},
   "outputs": [],
   "source": [
    "most_divesrion_month.plot(x = 'FlightMonth', y = 'count', kind = 'bar', xlabel = 'Month of the year',\n",
    "                  ylabel = 'Total number of diversions')"
   ]
  },
  {
   "cell_type": "markdown",
   "id": "b772ce6b",
   "metadata": {},
   "source": [
    "YEAR"
   ]
  },
  {
   "cell_type": "code",
   "execution_count": null,
   "id": "00749aa3",
   "metadata": {},
   "outputs": [],
   "source": [
    "diversion_year = diverted_flights[['Diverted', 'FlightYear']]\n",
    "diversion_year"
   ]
  },
  {
   "cell_type": "code",
   "execution_count": null,
   "id": "2a068b35",
   "metadata": {},
   "outputs": [],
   "source": [
    "diversion_year['count'] = 1\n",
    "\n",
    "most_diversion_year = diversion_year.groupby('FlightYear').count().reset_index()[['FlightYear', 'count']]\n",
    "most_diversion_year"
   ]
  },
  {
   "cell_type": "code",
   "execution_count": null,
   "id": "4767bbdb",
   "metadata": {},
   "outputs": [],
   "source": [
    "most_diversion_year_sorted = most_diversion_year.sort_values('count', ascending = False)\n",
    "most_diversion_year_sorted"
   ]
  },
  {
   "cell_type": "code",
   "execution_count": null,
   "id": "29bef093",
   "metadata": {},
   "outputs": [],
   "source": [
    "most_diversion_year.plot(x = 'FlightYear', y = 'count', kind = 'bar', xlabel = 'Year',\n",
    "                  ylabel = 'Total number of diversions')"
   ]
  },
  {
   "cell_type": "markdown",
   "id": "72d92c4a",
   "metadata": {},
   "source": [
    "TASK 6: Number of flights per company/airline? in the year 2018"
   ]
  },
  {
   "cell_type": "code",
   "execution_count": null,
   "id": "c8b76845",
   "metadata": {},
   "outputs": [],
   "source": [
    "combined_records.head()"
   ]
  },
  {
   "cell_type": "code",
   "execution_count": null,
   "id": "89fab95e",
   "metadata": {},
   "outputs": [],
   "source": [
    "successful_flights_2018 = combined_records[((combined_records['Cancelled'] == False) & (combined_records['FlightYear'] == 2018))]\n",
    "successful_flights_2018.head()"
   ]
  },
  {
   "cell_type": "code",
   "execution_count": null,
   "id": "19d29350",
   "metadata": {},
   "outputs": [],
   "source": [
    "airline_records = successful_flights_2018[['Airline', 'Cancelled']]\n",
    "airline_records.head()"
   ]
  },
  {
   "cell_type": "code",
   "execution_count": null,
   "id": "9b221246",
   "metadata": {},
   "outputs": [],
   "source": [
    "airline_records['count'] = 1\n",
    "\n",
    "order_of_success = airline_records.groupby('Airline').count().reset_index()[['Airline', 'count']]\n",
    "order_of_success"
   ]
  },
  {
   "cell_type": "code",
   "execution_count": null,
   "id": "be30f7ac",
   "metadata": {},
   "outputs": [],
   "source": [
    "sorted_order_of_success = order_of_success.sort_values('count', ascending = False)\n",
    "sorted_order_of_success"
   ]
  },
  {
   "cell_type": "code",
   "execution_count": null,
   "id": "ce4813b5",
   "metadata": {},
   "outputs": [],
   "source": [
    "order_of_success.plot(x = 'Airline', y = 'count', kind = 'bar', xlabel = 'Airline/Company',\n",
    "                  ylabel = 'Number of Successful Flights')"
   ]
  },
  {
   "cell_type": "markdown",
   "id": "eaa13082",
   "metadata": {},
   "source": [
    "TASK 7: THE BUSIEST AIRPORT IN 2019"
   ]
  },
  {
   "cell_type": "code",
   "execution_count": null,
   "id": "02822305",
   "metadata": {},
   "outputs": [],
   "source": [
    "combined_records.head()"
   ]
  },
  {
   "cell_type": "code",
   "execution_count": null,
   "id": "13d35816",
   "metadata": {},
   "outputs": [],
   "source": [
    "successful_flights_2019 = combined_records[((combined_records['Cancelled'] == False) & (combined_records['FlightYear'] == 2019))]\n",
    "successful_flights_2019.head()"
   ]
  },
  {
   "cell_type": "code",
   "execution_count": null,
   "id": "c391a50e",
   "metadata": {},
   "outputs": [],
   "source": [
    "origin_data = successful_flights_2019[['Cancelled', 'Origin', 'OriginCityName', 'OriginStateName']]\n",
    "origin_data"
   ]
  },
  {
   "cell_type": "code",
   "execution_count": null,
   "id": "777cd0dd",
   "metadata": {},
   "outputs": [],
   "source": [
    "origin_data_filtered = origin_data[['Origin', 'Cancelled']]\n",
    "origin_data_filtered"
   ]
  },
  {
   "cell_type": "code",
   "execution_count": null,
   "id": "9718a6a3",
   "metadata": {},
   "outputs": [],
   "source": [
    "origin_data_filtered['count'] = 1\n",
    "\n",
    "origin_data_filtered_success = origin_data_filtered.groupby('Origin').count().reset_index()[['Origin', 'count']]\n",
    "origin_data_filtered_success"
   ]
  },
  {
   "cell_type": "code",
   "execution_count": null,
   "id": "bee8039d",
   "metadata": {},
   "outputs": [],
   "source": [
    "origin_data_filtered_success_sorted = origin_data_filtered_success.sort_values('count', ascending = False)\n",
    "origin_data_filtered_success_sorted"
   ]
  },
  {
   "cell_type": "code",
   "execution_count": null,
   "id": "6cb32eb1",
   "metadata": {},
   "outputs": [],
   "source": [
    "origin_city = origin_data[['OriginCityName', 'Cancelled']]\n",
    "origin_city"
   ]
  },
  {
   "cell_type": "code",
   "execution_count": null,
   "id": "026c26c2",
   "metadata": {},
   "outputs": [],
   "source": [
    "origin_city['count'] = 1\n",
    "\n",
    "origin_city_success = origin_city.groupby('OriginCityName').count().reset_index()[['OriginCityName', 'count']]\n",
    "origin_city_success"
   ]
  },
  {
   "cell_type": "code",
   "execution_count": null,
   "id": "ed1e44b8",
   "metadata": {},
   "outputs": [],
   "source": [
    "origin_city_success_sorted = origin_city_success.sort_values('count', ascending = False)\n",
    "origin_city_success_sorted"
   ]
  },
  {
   "cell_type": "code",
   "execution_count": null,
   "id": "647a2213",
   "metadata": {},
   "outputs": [],
   "source": [
    "success_origin_data = origin_data.groupby('Origin').count()\n",
    "success_origin_data"
   ]
  },
  {
   "cell_type": "code",
   "execution_count": null,
   "id": "e0fac9a1",
   "metadata": {},
   "outputs": [],
   "source": [
    "combined_records.head()"
   ]
  },
  {
   "cell_type": "markdown",
   "id": "a2da1254",
   "metadata": {},
   "source": [
    "TASK 7: WHAT WAS THE BUSIEST DESTINATION IN 2019?"
   ]
  },
  {
   "cell_type": "code",
   "execution_count": null,
   "id": "04995a24",
   "metadata": {},
   "outputs": [],
   "source": [
    "dest_records = successful_flights_2019[['DestCityName', 'DestStateName']]\n",
    "dest_records"
   ]
  },
  {
   "cell_type": "code",
   "execution_count": null,
   "id": "b9d3cffb",
   "metadata": {},
   "outputs": [],
   "source": [
    "dest_records['count'] = 1\n",
    "\n",
    "count_dest_records = dest_records.groupby('DestCityName').count().reset_index()[['DestCityName', 'count']]\n",
    "count_dest_records"
   ]
  },
  {
   "cell_type": "code",
   "execution_count": null,
   "id": "eb3e3dc1",
   "metadata": {},
   "outputs": [],
   "source": [
    "sorted_count_dest_records = count_dest_records.sort_values('count', ascending = False)\n",
    "sorted_count_dest_records"
   ]
  },
  {
   "cell_type": "code",
   "execution_count": null,
   "id": "3ed5ab56",
   "metadata": {},
   "outputs": [],
   "source": [
    "dest_records['count'] = 1\n",
    "\n",
    "count_dest_records_state = dest_records.groupby('DestStateName').count().reset_index()[['DestStateName', 'count']]\n",
    "count_dest_records_state"
   ]
  },
  {
   "cell_type": "code",
   "execution_count": null,
   "id": "3c0ef8eb",
   "metadata": {},
   "outputs": [],
   "source": [
    "sorted_count_dest_records_state = count_dest_records_state.sort_values('count', ascending = False)\n",
    "sorted_count_dest_records_state"
   ]
  },
  {
   "cell_type": "code",
   "execution_count": null,
   "id": "fc82f35e",
   "metadata": {},
   "outputs": [],
   "source": []
  }
 ],
 "metadata": {
  "kernelspec": {
   "display_name": "Python 3 (ipykernel)",
   "language": "python",
   "name": "python3"
  },
  "language_info": {
   "codemirror_mode": {
    "name": "ipython",
    "version": 3
   },
   "file_extension": ".py",
   "mimetype": "text/x-python",
   "name": "python",
   "nbconvert_exporter": "python",
   "pygments_lexer": "ipython3",
   "version": "3.10.9"
  }
 },
 "nbformat": 4,
 "nbformat_minor": 5
}
